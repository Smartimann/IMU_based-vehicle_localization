{
 "cells": [
  {
   "cell_type": "markdown",
   "id": "c09b5faa",
   "metadata": {},
   "source": [
    "## Import necessary libraries"
   ]
  },
  {
   "cell_type": "code",
   "execution_count": 1,
   "id": "f84f87e8",
   "metadata": {},
   "outputs": [
    {
     "name": "stderr",
     "output_type": "stream",
     "text": [
      "c:\\Users\\mso\\Anaconda3\\envs\\car\\lib\\site-packages\\_distutils_hack\\__init__.py:30: UserWarning: Setuptools is replacing distutils.\n",
      "  warnings.warn(\"Setuptools is replacing distutils.\")\n"
     ]
    }
   ],
   "source": [
    "import numpy as np\n",
    "import pandas as pd\n",
    "import cv2 as cv\n",
    "import matplotlib.pyplot as plt\n",
    "import sys\n",
    "import os\n",
    "from filterpy.monte_carlo import systematic_resample\n",
    "import scipy as sp\n",
    "from scipy import stats\n",
    "from sklearn import preprocessing\n",
    "\n",
    "PROJECT_ROOT = os.path.abspath(os.path.join(\n",
    "                  os.path.dirname('utils'), \n",
    "                  os.pardir)\n",
    ")\n",
    "sys.path.append(PROJECT_ROOT)\n",
    "from filterscripts import distance_map\n",
    "%matplotlib inline"
   ]
  },
  {
   "cell_type": "markdown",
   "id": "ea7a44de",
   "metadata": {},
   "source": [
    "## Erstellen der Distance Map\n",
    "Die Distance-Map ist eine representation der Karte, auf der das Auto fährt. Diese Karte enthält Informationen über die Referenzlinien der jeweiligen Straßen. Jeder Pixel der Distance Map enthält dabei einen Wert zwischen 0 und 1 und gibt darüber an, wie weit er von dem am nächsten liegenden Straßenpunkt entfernt ist. Für den Umgang mit der Distance Map war es notwendig ein 2D-Array zu erzeugen, dass ein Abbild der Karte darstellt. Dieses Array wird genutzt, um die Distance Map und auch die Karte als Bild zu speichern. Allerdings brauchte es hier eine Möglichkeit, zwischen den Koordinaten dieses Arrays und den Koordinaten aus der Simulation umzurechnen. Die Distance Map wurde also folgendermaßen erzeugt: \n",
    "### Festlegen der gewünschten Genauigkeit\n",
    "Die einzelnen Straßenpunkte sind in einer Liste gespeichert. Über den Wert \n",
    "\n",
    "    decimal_places\n",
    "    \n",
    "wird angegeben, wie viele diesert Nachkommastellen miteinbezogen werden und dementsprechend wie hoch aufgelöst die Distance Map schlussendlich ist. Anschließend werden zwei Werte festgelegt, die zwischen den Koordinaten der SImulation (die auch Nachkommastellen haben) und den ganzzahligen Koordinaten des Image-Arrays umrechnen können. Diese sehen wie folgt aus: \n",
    "\n",
    "    to_array_indices = 10**decimal_places\n",
    "    to_coordinates = 10**-decimal_places\n",
    "\n",
    "### Konvertierung der Straßenpunkte\n",
    "Die Straßenpunkte wurden bereits aus der Karten-Datei der Simulation extrahiert und mittels parametrischer Funktionen berechnet. Sie werden geladen und anschließend mit den erzeugten Variablen in das Koordinatensystems des Image-Arrays überführt. \n",
    "\n",
    "### Erzeugen des Image Arrays\n",
    "Das Image Array muss auf Basis der Straßenpunkte erzeigt werden. Dementsprechend mussten hier die Maximal- und Minimalwerte für die x- und y-Koordinaten berechnet werden. Außerdem wurde das Image Array mit einem zusätzlichen rand versehen. Auf Basis dieser Werte konnte das Image Array (oder auch Map Array geneannt) erzeugt werden.\n",
    "\n",
    "    x_min_bound = self.road_point_indicies[:,0].min() - additional_border\n",
    "    y_min_bound = self.road_point_indicies[:,1].min() - additional_border\n",
    "    x_max_bound = self.road_point_indicies[:,0].max() + additional_border\n",
    "    y_max_bound = self.road_point_indicies[:,1].max() + additional_border\n",
    "    size_x = int(self.x_max_bound - self.x_min_bound)\n",
    "    size_y = int(self.y_max_bound - self.y_min_bound)\n",
    "    map_array = np.zeros((self.y_max_bound + (0 - self.y_min_bound), self.x_max_bound + (0 -self.x_min_bound)), np.uint8)\n",
    "\n",
    "Zuerst wird dieses Distance Map erzeugt und geplotted:"
   ]
  },
  {
   "cell_type": "code",
   "execution_count": 2,
   "id": "299f2bd2",
   "metadata": {},
   "outputs": [
    {
     "name": "stdout",
     "output_type": "stream",
     "text": [
      "Converted Points (135, 2)\n",
      "(2595, 2740)\n"
     ]
    },
    {
     "data": {
      "text/plain": [
       "<matplotlib.image.AxesImage at 0x12e3a936588>"
      ]
     },
     "execution_count": 2,
     "metadata": {},
     "output_type": "execute_result"
    },
    {
     "data": {
      "image/png": "[encoded data removed]",
      "text/plain": [
       "<Figure size 432x288 with 1 Axes>"
      ]
     },
     "metadata": {
      "needs_background": "light"
     },
     "output_type": "display_data"
    }
   ],
   "source": [
    "dm = distance_map.DistanceMap(1, 300, 'road_points_data_test')\n",
    "plt.imshow(dm.distance_map, cmap=\"gray\")"
   ]
  },
  {
   "cell_type": "markdown",
   "id": "63024e7d",
   "metadata": {},
   "source": [
    "# Particle Filter \n",
    "In diesem Abschnitt wird der Partikelfilter erstellt. Zuerst wird eine Funktion benötigt, die Partikel auf der Karte erzeugt. Diese werden dann später mit jeder Iteration angepasst und versuchen, den wahren Zustand des Systems immer besser abzubilden. Für die initiale Erstellung der Partikel gibt es zwei herangehensweisen. Die erste erzeugt sie Uniform auf der gesamten Karte. Die zweite erzeugt sie um einen Durschnittswert normalverteilt. \n",
    "\n",
    "Ich habe beide implementiert. Variante 1 würde dann zum Einsatz kommen, wenn es keine initialie Information gibt, wo sich das Auto zu Beginn befindet. Variante 2 würde dann zum Einsatz kommen, wenn ein sehr ungenaues initiales GPS Signal Aufschluss über die anfängliche Position gibt, bzw. diese stark eingrenzt. \n",
    "\n",
    "## Variante 1 - Uniforme Partikel"
   ]
  },
  {
   "cell_type": "code",
   "execution_count": 3,
   "id": "6ee11e77",
   "metadata": {},
   "outputs": [],
   "source": [
    "from numpy.random import uniform\n",
    "\n",
    "def create_uniform_particles(x_range, y_range, x_dot_range, y_dot_range,x_ddot_range, y_ddot_range, theta_range, delta_range,N):\n",
    "    particles = np.empty((N, 8))\n",
    "    particles[:, 0] = uniform(x_range[0], x_range[1], size=N)\n",
    "    particles[:, 1] = uniform(y_range[0], y_range[1], size=N)\n",
    "    particles[:, 2] = uniform(x_dot_range[0], x_dot_range[1], size=N)\n",
    "    particles[:, 3] = uniform(y_dot_range[0], y_dot_range[1], size=N)\n",
    "    particles[:, 4] = uniform(x_ddot_range[0], x_ddot_range[1], size=N)\n",
    "    particles[:, 5] = uniform(y_ddot_range[0], y_ddot_range[1], size=N)    \n",
    "    particles[:, 6] = uniform(theta_range[0], theta_range[1], size=N)\n",
    "    particles[:, 7] = uniform(delta_range[0], delta_range[1], size=N)\n",
    "    particles[:, 6] %= 2 * np.pi\n",
    "    particles[:, 7] %= 2 * np.pi\n",
    "    return particles"
   ]
  },
  {
   "cell_type": "markdown",
   "id": "ffe49077",
   "metadata": {},
   "source": [
    "## Variant 2 - Gaußverteilte Partikel"
   ]
  },
  {
   "cell_type": "code",
   "execution_count": 4,
   "id": "ed188f99",
   "metadata": {},
   "outputs": [],
   "source": [
    "from scipy import randn\n",
    "\n",
    "\n",
    "def create_gaussian_particles(mean, std, N):\n",
    "    particles = np.empty((N, 8))\n",
    "    particles[:, 0] = mean[0] + randn((N) * std[0])\n",
    "    particles[:, 1] = mean[1] + randn((N) * std[0])\n",
    "    particles[:, 2] = mean[2] + randn((N) * std[0])\n",
    "    particles[:, 3] = mean[3] + randn((N) * std[0])\n",
    "    particles[:, 4] = mean[4] + randn((N) * std[0])\n",
    "    particles[:, 5] = mean[5] + randn((N) * std[0])\n",
    "    particles[:, 6] = mean[6] + randn((N) * std[0])\n",
    "    particles[:, 7] = mean[7] + randn((N) * std[0])\n",
    "    particles[:, 6] %= 2 * np.pi\n",
    "    particles[:, 7] %= 2 * np.pi\n",
    "    return particles"
   ]
  },
  {
   "cell_type": "markdown",
   "id": "cffd51b9",
   "metadata": {},
   "source": [
    "## Prozessmodell eines Fahrzeugs\n",
    "Der Vorhersageschritt des Partikelfilters bewegt alle Partikel anhand des Control Inputs entsprechend des Prozessmodells. Hierfür habe ich mich für das Kinematic Front Wheel Bycicle Modell entschieden. \n",
    "Dieses ist eine Annäherung an ein Vierrädriges Fahrzeugs und geht nur von zwei Rädern aus. Einem Vorder- und einem Hinterrad. Dabei wird davon ausgegangen, dass sich nur das Vorderrad drehen kann. \n",
    "\n",
    "Der Zustand $\\vec x$ unseres Systems ist definiert als: \n",
    "\n",
    "$$\n",
    "\\vec x = \\begin{bmatrix} x, y, \\dot x, \\dot y, \\ddot x , \\ddot y, \\theta, \\delta \\end{bmatrix}^T\n",
    "$$\n",
    "\n",
    "Der Control Input $\\vec u$ ist definiert als: \n",
    "$$\n",
    "\\vec u = \\begin{bmatrix} \\ddot x_u, \\ddot y_u, \\varphi \\end{bmatrix}\n",
    "$$\n",
    "\n",
    "Zudem haben wir folgemde Messungen $\\vec z$: \n",
    "$$\n",
    "\\vec z = \\begin{bmatrix} \\ddot x_z, \\ddot y_z, \\theta \\end{bmatrix}\n",
    "$$ \n",
    "\n",
    "Die für den Vorhersageschritt verwendete Zustandstransferfunktion sieht folgendermaßen aus:\n",
    "$$\n",
    "\\vec x_{t+1} = \n",
    "\\begin{bmatrix} x_{t+1}\\\\ y_{t+1}\\\\ \\dot x_{t+1}\\\\\n",
    "\\dot y_{t+1}\\\\\n",
    "\\ddot x_{t+1}\\\\\n",
    "\\ddot y_{t+1} \\\\\n",
    "\\theta_{t+1} \\\\ \n",
    "\\delta_{t+1} \\\\\n",
    "\\end{bmatrix}\n",
    "=\n",
    "\\begin{bmatrix} \n",
    "x_t + v\\cos(\\theta_t + \\delta_t)  \\Delta t\\\\ \n",
    "y_t + v\\sin(\\theta_t + \\delta_t)  \\Delta t\\\\ \n",
    "\\dot x_t + \\ddot x_{t} \\Delta t\\\\ \n",
    "\\dot y_t + \\ddot y_{t} \\Delta t\\\\\n",
    "%\\ddot x_t + \\dddot x_t \\Delta t \\\\ \n",
    "%\\ddot y_t + \\dddot y_t \\Delta t\\\\ \n",
    "\\ddot x_{u_t}\\\\\n",
    "\\ddot y_{u_t}\\\\\n",
    "\\theta_t + \\frac{v\\sin(\\delta)}{L} \\Delta t\\\\ \n",
    "\\delta + \\varphi \\Delta t\n",
    "\\end{bmatrix}$$"
   ]
  },
  {
   "cell_type": "code",
   "execution_count": 5,
   "id": "5e1ff849",
   "metadata": {},
   "outputs": [],
   "source": [
    "# x = x-0,y-1,x_dot-2, y_dot-3, x_ddot-4, y_ddot-5, theta-6, delta-7\n",
    "# u = acc_x, acc_y, steering \n",
    "def F(x, u, step, L, std, N): \n",
    "    # calculate nect velocity\n",
    "    x_dot_next = x[2] + (x[4] * step) \n",
    "    y_dot_next = x[3] + (x[5] * step)\n",
    "    # control input as next acceleration\n",
    "    x_ddot_next = u[0] + (np.random.uniform(0,1,1) * std[0])\n",
    "    y_ddot_next = u[1] + (np.random.uniform(0,1,1) * std[1])\n",
    "    # calculate velocity scalar\n",
    "    velocity = np.linalg.norm((x[2], x[3]))\n",
    "    # get next position\n",
    "    x_next = x[0] + (velocity*np.cos(x[6] + x[7]) * step)\n",
    "    y_next = x[1] + (velocity*np.sin(x[6] + x[7]) * step)\n",
    "    #calculate theta and delta\n",
    "    theta_next = x[6] + (((velocity*np.sin(x[7]))/L) * step)\n",
    "    delta_next = x[7] + ((u[2] + np.random.uniform(0,1,1)*std[2]) * step)\n",
    "    \n",
    "    \n",
    "    return np.array([x_next, y_next,x_dot_next, y_dot_next, x_ddot_next, y_ddot_next, theta_next, delta_next], dtype=object) \n",
    "\n",
    "def predict(particles, u, std, dt, L): \n",
    "    N = len(particles) \n",
    "    # Needs noise: not in a for loop\n",
    "    for i in range(len(particles)): \n",
    "        particles[i] = F(particles[i], u, dt, L, std, len(particles))"
   ]
  },
  {
   "cell_type": "markdown",
   "id": "e1601721",
   "metadata": {},
   "source": [
    "## Der Update-Schritt\n",
    "Der Update schritt ist dafür verantwortlich, die Gewichte der einzelnen Partikel anzupassen. Hierfür verwendet er die Messungen, die gemacht wurden. Hier muss noch arbeit reinfließen."
   ]
  },
  {
   "cell_type": "code",
   "execution_count": 23,
   "id": "617f88d2",
   "metadata": {},
   "outputs": [],
   "source": [
    "\n",
    "\n",
    "def update(particles, weights,z, R, distance_map):\n",
    "    rotation_differences = abs((abs(particles[:,6]-z[2])+180) %360 - 180)# index 6 = theta\n",
    "    rot_diff_weight = 1 - preprocessing.minmax_scale(rotation_differences)\n",
    "\n",
    "    acceleration_difference = np.array(list(map(np.linalg.norm, z[0:2] - particles[:,4:5])), dtype=object)\n",
    "    acc_diff_weight = 1 - preprocessing.minmax_scale(acceleration_difference)\n",
    "\n",
    "    particles_image_coords = dm.coord_to_image(particles[:, 0:2])\n",
    "    distances = []\n",
    "    \n",
    "    for p in particles_image_coords: \n",
    "        if (p[0] < dm.distance_map.shape[1] and p[0] > 0 and p[1] < dm.distance_map.shape[0] and p[1] > 0): \n",
    "            distances.append(dm.distance_map[p[1], [0]])\n",
    "        else:\n",
    "            distances.append(np.array(1000000))\n",
    "    distances = np.array(distances, dtype=object)\n",
    "    average_distances = rot_diff_weight + acc_diff_weight + distances / 3\n",
    "    weights = weights * average_distances\n",
    "\n",
    "    weights += 1.e-300\n",
    "    \n",
    "    weights /= sum(weights) # normalize\n",
    "    \n",
    "    \n",
    "def estimate(particles, weights): \n",
    "    pos = particles[:,0:2]\n",
    "    mean = np.average(pos, weights=weights, axis=0)\n",
    "    var  = np.average((pos - mean)**2, weights=weights, axis=0)\n",
    "    return mean, var\n",
    "\n",
    "\n",
    "def resample_from_index(particles, weights, indexes):\n",
    "    particles[:] = particles[indexes]\n",
    "    weights.resize(len(particles))\n",
    "    weights.fill (1.0 / len(weights))\n",
    "    \n",
    "def neff(weights):\n",
    "    return 1. / np.sum(np.square(weights))"
   ]
  },
  {
   "cell_type": "markdown",
   "id": "1f78358f",
   "metadata": {},
   "source": [
    "## Einlesen und bearbeiten der Daten\n",
    "In diesem Schritt werden die Daten eingelesen. Da das Koordinatensystem der Carla Simulation ein linkshändiges ist, muss die Y-Achse invertiert werden. Zudem muss die Rotation der Beschleunigung in das Welt-Koordinatensystem überführt werden. Hierfür werden mittels der Kompass, den die IMU-Sensoren der Simulation enthalten, die Rotationsmatritzen für jeden Zeitschritt definiert und dann auf die Werte des accelerometer angewandt. Das bezieht sich nämllich auf das Koordinatensystem der IMU-Sensoren."
   ]
  },
  {
   "cell_type": "code",
   "execution_count": 15,
   "id": "04820a62",
   "metadata": {},
   "outputs": [],
   "source": [
    "def get_rotation_matrix(theta): \n",
    "    return np.array([[np.cos(theta), np.sin(theta)], [-np.sin(theta), np.cos(theta)]])"
   ]
  },
  {
   "cell_type": "code",
   "execution_count": 16,
   "id": "3e6b8ac1",
   "metadata": {},
   "outputs": [],
   "source": [
    "simulation_data = pd.read_csv(\"../data/Sim_data_long.csv\")\n",
    "local_acc = np.stack((simulation_data['accelerometer_x'], simulation_data['accelerometer_y']), axis = 1)\n",
    "\n",
    "matrices = []\n",
    "for o in simulation_data['orientations'].values: \n",
    "    matrices.append(get_rotation_matrix(o))\n",
    "matrices = np.array(matrices)\n",
    "\n",
    "global_acc = []\n",
    "for i in range(len(matrices)): \n",
    "    global_acc.append(np.dot(local_acc[i], matrices[i]))\n",
    "global_acc = np.array(global_acc)\n",
    "simulation_data['accelerometer_x'] = global_acc[:, 0]\n",
    "simulation_data['accelerometer_y'] = global_acc[:, 1]\n"
   ]
  },
  {
   "cell_type": "markdown",
   "id": "fc064c02",
   "metadata": {},
   "source": [
    "Invertieren der Y-Axe "
   ]
  },
  {
   "cell_type": "code",
   "execution_count": 17,
   "id": "efaebd92",
   "metadata": {},
   "outputs": [],
   "source": [
    "simulation_data['positions_y'] = -simulation_data['positions_y']\n",
    "simulation_data['acc_y'] = -simulation_data['acc_y']\n",
    "simulation_data['accelerometer_y'] = -simulation_data['accelerometer_y']\n",
    "simulation_data['velocity_y'] = -simulation_data['velocity_y']"
   ]
  },
  {
   "cell_type": "markdown",
   "id": "ba188dfc",
   "metadata": {},
   "source": [
    "## Plot-Funktion der Ergebnisse\n",
    "Diese Funktion ist dafür zuständig die Ergebnisse zu plotten."
   ]
  },
  {
   "cell_type": "code",
   "execution_count": 18,
   "id": "bbdf65c1",
   "metadata": {},
   "outputs": [],
   "source": [
    "def plot_particles_and_mean(particles, weights, mu, ground_truth,index): \n",
    "    # convert and plot the particles \n",
    "    converted_particles = []\n",
    "    plt.imshow(dm.distance_map, cmap=\"gray\")\n",
    "    for i, rp in enumerate(particles): \n",
    "        converted_particle = dm.coord_to_image(np.array([rp[0], rp[1]]))\n",
    "        plt.scatter(converted_particle[0], converted_particle[1], s=weights[i]*500, c='blue', alpha=0.5)\n",
    "    \n",
    "    #convert and plot mean\n",
    "    mean = dm.coord_to_image(mu)\n",
    "    plt.plot(mean[0], mean[1], 'ro')\n",
    "    \n",
    "    #convert and plot ground truth\n",
    "    converted_gt = dm.coord_to_image(ground_truth)\n",
    "    \n",
    "    plt.scatter(converted_gt[0],converted_gt[1], c=\"green\")\n",
    "    #plt.ylim([2500, 0])\n",
    "    #plt.xlim([0, 2500])\n",
    "    plt.savefig('../data/images/pfanim/pi_'+str(index)+'.jpg')\n",
    "    plt.clf()\n",
    "    #plt.show()"
   ]
  },
  {
   "cell_type": "markdown",
   "id": "0cc99a2e",
   "metadata": {},
   "source": [
    "## First test with real data+\n",
    "This is very important to understand - a very accurate sensor can lead to poor performance of the filter because few of the particles will be a good sample of the probability distribution. There are a few fixes available to us. First, we can artificially increase the sensor noise standard deviation so the particle filter will accept more points as matching the robots probability distribution. This is non-optimal because some of those points will be a poor match. The real problem is that there aren't enough points being generated such that enough are near the robot. Increasing N usually fixes this problem. This decision is not cost free as increasing the number of particles significantly increase the computation time. Still, let's look at the result of using 100,000 particles."
   ]
  },
  {
   "cell_type": "code",
   "execution_count": 33,
   "id": "ad7d7a1a",
   "metadata": {},
   "outputs": [],
   "source": [
    "def run_pf_imu(simulation_data, sensor_std, dm, std):\n",
    "\n",
    "    ground_truth = np.stack([simulation_data['positions_x'], simulation_data['positions_y']], axis=1)\n",
    "    zs = np.stack([simulation_data['accelerometer_x'], simulation_data['accelerometer_y'], simulation_data['orientations']], axis=1)\n",
    "    us = np.stack([simulation_data['acc_x'], simulation_data['acc_y'], simulation_data['steering'].values], axis=1)\n",
    "\n",
    "\n",
    "    seconds = 60\n",
    "    dt = 1/10\n",
    "    Ts=simulation_data['timestamps'].values\n",
    "    xs = []\n",
    "    L = 1.8\n",
    "    N = 10000\n",
    "\n",
    "    x_min = dm.road_points[:,0].min()\n",
    "    x_max = dm.road_points[:,0].max()\n",
    "\n",
    "    y_min = dm.road_points[:,1].min()\n",
    "    y_max = dm.road_points[:,1].max()\n",
    "\n",
    "\n",
    "    x_range = [x_min, x_max]\n",
    "    y_range = [y_min, y_max]\n",
    "    x_dot_range = [0, 10]\n",
    "    y_dot_range = [0, 10]\n",
    "    x_ddot_range = [0, 10]\n",
    "    y_ddot_range = [0, 10]\n",
    "\n",
    "    theta_range = [0,2*np.pi]\n",
    "    delta_range = [-np.pi/2, np.pi/2]\n",
    "    particles = create_uniform_particles(x_range, y_range, x_dot_range, y_dot_range,x_ddot_range, y_ddot_range, theta_range, delta_range, N)\n",
    "    weights = np.full((particles.shape[0],), 1/particles.shape[0])\n",
    "    std = np.array([0.2, 0.2, 0.2])\n",
    "\n",
    "    shall_plot = True\n",
    "  \n",
    "    for i,u in enumerate(Ts): \n",
    "        predict(particles, us[i], std, Ts[i] - Ts[i-1], L)\n",
    "        # add noise to measurement (later done in carla?)\n",
    "        zs[i] += (np.random.randn(len(zs[i]))*sensor_std)\n",
    "\n",
    "        update(particles, weights, zs[i], 0, dm.distance_map)\n",
    "        \n",
    "        if (neff(weights) < N/2): \n",
    "            print(\"resample\")\n",
    "            indexes = systematic_resample(weights)\n",
    "            resample_from_index(particles, weights, indexes)\n",
    "            assert np.allclose(weights, 1/N)\n",
    "\n",
    "        mu, var = estimate(particles,weights)\n",
    "        \n",
    "        xs.append(mu)\n",
    "    xs = np.array(xs)\n"
   ]
  },
  {
   "cell_type": "markdown",
   "id": "e51880f1",
   "metadata": {},
   "source": [
    "## Plot particles\n",
    "Legends will be added later: \n",
    "- blue = particles\n",
    "- red = mean\n",
    "- yellow = ground truth"
   ]
  },
  {
   "cell_type": "code",
   "execution_count": 34,
   "id": "1236fca6",
   "metadata": {},
   "outputs": [],
   "source": [
    "xs_image_coord = []\n",
    "for x in xs: \n",
    "    xs_image_coord.append(dm.coord_to_image(x))\n",
    "xs_image_coord = np.array(xs_image_coord)\n",
    "\n",
    "gt_image_coord = []\n",
    "for gt in ground_truth: \n",
    "    gt_image_coord.append(dm.coord_to_image(gt))\n",
    "gt_image_coord = np.array(gt_image_coord)"
   ]
  },
  {
   "cell_type": "code",
   "execution_count": 35,
   "id": "d8c478e0",
   "metadata": {},
   "outputs": [
    {
     "data": {
      "image/png": "[encoded data removed]",
      "text/plain": [
       "<Figure size 432x288 with 1 Axes>"
      ]
     },
     "metadata": {
      "needs_background": "light"
     },
     "output_type": "display_data"
    }
   ],
   "source": [
    "plt.imshow(dm.distance_map, cmap=\"gray\")\n",
    "plt.scatter(xs_image_coord[:,0], xs_image_coord[:,1], label=\"estimations\", alpha = 0.1)\n",
    "plt.scatter(gt_image_coord[:,0],gt_image_coord[:,1], label=\"ground truth\")\n",
    "#plt.ylim([2500, 0])\n",
    "#plt.xlim([0, 2500])\n",
    "plt.legend()\n",
    "plt.show()"
   ]
  },
  {
   "cell_type": "code",
   "execution_count": 36,
   "id": "85d1e16c",
   "metadata": {},
   "outputs": [
    {
     "data": {
      "text/plain": [
       "10000"
      ]
     },
     "execution_count": 36,
     "metadata": {},
     "output_type": "execute_result"
    }
   ],
   "source": [
    "\n",
    "len(particles)"
   ]
  },
  {
   "cell_type": "code",
   "execution_count": null,
   "id": "e7bc8334",
   "metadata": {},
   "outputs": [],
   "source": []
  }
 ],
 "metadata": {
  "kernelspec": {
   "display_name": "Python 3.9.12 ('car')",
   "language": "python",
   "name": "python3"
  },
  "language_info": {
   "codemirror_mode": {
    "name": "ipython",
    "version": 3
   },
   "file_extension": ".py",
   "mimetype": "text/x-python",
   "name": "python",
   "nbconvert_exporter": "python",
   "pygments_lexer": "ipython3",
   "version": "3.7.13"
  },
  "vscode": {
   "interpreter": {
    "hash": "6701c114b22891e219d37e60bbdfb30b64a39fd4ca17dbea99636c4d3438df00"
   }
  }
 },
 "nbformat": 4,
 "nbformat_minor": 5
}
