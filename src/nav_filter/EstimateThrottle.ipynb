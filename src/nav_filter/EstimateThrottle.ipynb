{
 "cells": [
  {
   "cell_type": "code",
   "execution_count": 38,
   "id": "68ab81d0",
   "metadata": {},
   "outputs": [],
   "source": [
    "import numpy as np\n",
    "import pandas as pd\n",
    "import matplotlib.pyplot as plt\n",
    "from scipy import stats\n",
    "\n",
    "%matplotlib inline"
   ]
  },
  {
   "cell_type": "code",
   "execution_count": 43,
   "id": "34e940e4",
   "metadata": {},
   "outputs": [],
   "source": [
    "df = pd.read_csv(\"../data/test_likelihood.csv\")"
   ]
  },
  {
   "cell_type": "code",
   "execution_count": 44,
   "id": "9463f60f",
   "metadata": {},
   "outputs": [
    {
     "data": {
      "text/plain": [
       "-7"
      ]
     },
     "execution_count": 44,
     "metadata": {},
     "output_type": "execute_result"
    }
   ],
   "source": [
    "-2 -5"
   ]
  },
  {
   "cell_type": "code",
   "execution_count": 67,
   "id": "e41bd280",
   "metadata": {},
   "outputs": [],
   "source": [
    "close_rot = df.loc[(df['rot_p'] - df['rot_m'] < 1) & (df['rot_p'] - df['rot_m'] > -1)]\n",
    "likelihoods = stats.norm(close_rot['rot_p'].values, .2).pdf(close_rot['rot_m'].values)\n",
    "\n",
    "data = { \n",
    "    'rot_p': close_rot['rot_p'].values,\n",
    "    'rot_m': close_rot['rot_m'].values,\n",
    "    'likelihood': likelihoods\n",
    "\n",
    "}"
   ]
  },
  {
   "cell_type": "code",
   "execution_count": 68,
   "id": "90b05acf",
   "metadata": {},
   "outputs": [],
   "source": [
    "new_df = pd.DataFrame(data)"
   ]
  },
  {
   "cell_type": "code",
   "execution_count": 69,
   "id": "ce6cd62e",
   "metadata": {},
   "outputs": [
    {
     "data": {
      "text/html": [
       "<div>\n",
       "<style scoped>\n",
       "    .dataframe tbody tr th:only-of-type {\n",
       "        vertical-align: middle;\n",
       "    }\n",
       "\n",
       "    .dataframe tbody tr th {\n",
       "        vertical-align: top;\n",
       "    }\n",
       "\n",
       "    .dataframe thead th {\n",
       "        text-align: right;\n",
       "    }\n",
       "</style>\n",
       "<table border=\"1\" class=\"dataframe\">\n",
       "  <thead>\n",
       "    <tr style=\"text-align: right;\">\n",
       "      <th></th>\n",
       "      <th>rot_p</th>\n",
       "      <th>rot_m</th>\n",
       "      <th>likelihood</th>\n",
       "    </tr>\n",
       "  </thead>\n",
       "  <tbody>\n",
       "    <tr>\n",
       "      <th>0</th>\n",
       "      <td>4.585276</td>\n",
       "      <td>5.258986</td>\n",
       "      <td>0.006853</td>\n",
       "    </tr>\n",
       "    <tr>\n",
       "      <th>1</th>\n",
       "      <td>6.042406</td>\n",
       "      <td>5.258986</td>\n",
       "      <td>0.000929</td>\n",
       "    </tr>\n",
       "    <tr>\n",
       "      <th>2</th>\n",
       "      <td>6.143080</td>\n",
       "      <td>5.258986</td>\n",
       "      <td>0.000114</td>\n",
       "    </tr>\n",
       "    <tr>\n",
       "      <th>3</th>\n",
       "      <td>5.247714</td>\n",
       "      <td>5.258986</td>\n",
       "      <td>1.991546</td>\n",
       "    </tr>\n",
       "    <tr>\n",
       "      <th>4</th>\n",
       "      <td>5.323594</td>\n",
       "      <td>5.258986</td>\n",
       "      <td>1.893302</td>\n",
       "    </tr>\n",
       "    <tr>\n",
       "      <th>5</th>\n",
       "      <td>6.248720</td>\n",
       "      <td>5.258986</td>\n",
       "      <td>0.000010</td>\n",
       "    </tr>\n",
       "    <tr>\n",
       "      <th>6</th>\n",
       "      <td>6.210074</td>\n",
       "      <td>5.258986</td>\n",
       "      <td>0.000025</td>\n",
       "    </tr>\n",
       "    <tr>\n",
       "      <th>7</th>\n",
       "      <td>5.586585</td>\n",
       "      <td>5.258986</td>\n",
       "      <td>0.521518</td>\n",
       "    </tr>\n",
       "  </tbody>\n",
       "</table>\n",
       "</div>"
      ],
      "text/plain": [
       "      rot_p     rot_m  likelihood\n",
       "0  4.585276  5.258986    0.006853\n",
       "1  6.042406  5.258986    0.000929\n",
       "2  6.143080  5.258986    0.000114\n",
       "3  5.247714  5.258986    1.991546\n",
       "4  5.323594  5.258986    1.893302\n",
       "5  6.248720  5.258986    0.000010\n",
       "6  6.210074  5.258986    0.000025\n",
       "7  5.586585  5.258986    0.521518"
      ]
     },
     "execution_count": 69,
     "metadata": {},
     "output_type": "execute_result"
    }
   ],
   "source": [
    "new_df"
   ]
  },
  {
   "cell_type": "code",
   "execution_count": 23,
   "id": "3504ed17",
   "metadata": {},
   "outputs": [],
   "source": [
    "mean = np.array([[0.4,0.8],[.2,.4]])\n",
    "cov = np.array([[0.1, 0.3], [0.3, 1.0]])\n",
    "#y = stats.multivariate_normal.pdf(x, mean=mean, cov=cov)\n",
    "\n",
    "x = np.array([2,3])"
   ]
  },
  {
   "cell_type": "code",
   "execution_count": 37,
   "id": "0fa47dc4",
   "metadata": {},
   "outputs": [
    {
     "data": {
      "text/plain": [
       "array([1, 2])"
      ]
     },
     "execution_count": 37,
     "metadata": {},
     "output_type": "execute_result"
    }
   ],
   "source": [
    "a = np.array([1,2,3,4,5])\n",
    "a[0:2]"
   ]
  },
  {
   "cell_type": "code",
   "execution_count": 32,
   "id": "e142f951",
   "metadata": {},
   "outputs": [
    {
     "data": {
      "text/plain": [
       "[<matplotlib.lines.Line2D at 0x1735c33de08>]"
      ]
     },
     "execution_count": 32,
     "metadata": {},
     "output_type": "execute_result"
    },
    {
     "data": {
      "image/png": "[encoded data removed]",
      "text/plain": [
       "<Figure size 432x288 with 1 Axes>"
      ]
     },
     "metadata": {
      "needs_background": "light"
     },
     "output_type": "display_data"
    }
   ],
   "source": [
    "from scipy.stats import norm\n",
    "\n",
    "import matplotlib.pyplot as plt\n",
    "\n",
    "fig, ax = plt.subplots(1, 1)\n",
    "\n",
    "mean, var, skew, kurt = norm.stats(moments='mvsk')\n",
    "x = np.linspace(norm.ppf(0.01),\n",
    "\n",
    "                norm.ppf(0.99), 100)\n",
    "\n",
    "ax.plot(x, norm.pdf(x),\n",
    "\n",
    "       'r-', lw=5, alpha=0.6, label='norm pdf')"
   ]
  },
  {
   "cell_type": "code",
   "execution_count": 31,
   "id": "e4240f16",
   "metadata": {},
   "outputs": [
    {
     "data": {
      "text/plain": [
       "5.5209483621597635e-87"
      ]
     },
     "execution_count": 31,
     "metadata": {},
     "output_type": "execute_result"
    }
   ],
   "source": []
  },
  {
   "cell_type": "code",
   "execution_count": 2,
   "id": "841f7c70",
   "metadata": {},
   "outputs": [
    {
     "data": {
      "text/plain": [
       "array([0])"
      ]
     },
     "execution_count": 2,
     "metadata": {},
     "output_type": "execute_result"
    }
   ],
   "source": [
    "np.array([0])"
   ]
  },
  {
   "cell_type": "code",
   "execution_count": 3,
   "id": "ef7f8d54",
   "metadata": {},
   "outputs": [],
   "source": [
    "x = np.array([1,0])\n",
    "origin = np.array([0,0])\n",
    "theta = np.deg2rad(90)\n",
    "rot = np.array([[np.cos(theta), -np.sin(theta)], [np.sin(theta), np.cos(theta)]])\n",
    "x_hat = np.dot(x,rot)"
   ]
  },
  {
   "cell_type": "code",
   "execution_count": 4,
   "id": "85c56758",
   "metadata": {},
   "outputs": [
    {
     "data": {
      "image/png": "[encoded data removed]",
      "text/plain": [
       "<Figure size 432x288 with 1 Axes>"
      ]
     },
     "metadata": {
      "needs_background": "light"
     },
     "output_type": "display_data"
    },
    {
     "name": "stdout",
     "output_type": "stream",
     "text": [
      "False\n"
     ]
    }
   ],
   "source": [
    "plt.quiver(origin[0],origin[1] ,x[0], x[1], color=\"r\", units=\"xy\", scale=1)\n",
    "plt.quiver(origin[0],origin[1], x_hat[0],x_hat[1], color=\"g\", units=\"xy\", scale=1)\n",
    "plt.xlim(-2,2)\n",
    "plt.ylim(-2,2)\n",
    "ax=plt.gca()\n",
    "ax.set_aspect('equal', adjustable='box')\n",
    "plt.show()\n",
    "print(np.array_equal(x, x_hat))"
   ]
  },
  {
   "cell_type": "code",
   "execution_count": 5,
   "id": "f68c0f7d",
   "metadata": {},
   "outputs": [
    {
     "data": {
      "text/plain": [
       "0.17431148549531633"
      ]
     },
     "execution_count": 5,
     "metadata": {},
     "output_type": "execute_result"
    }
   ],
   "source": [
    "alpha = np.deg2rad(0)\n",
    "beta = np.deg2rad(10)\n",
    "a = np.array([np.cos(alpha), np.sin(alpha)])\n",
    "b = np.array([np.cos(beta), np.sin(beta)])\n",
    "\n",
    "difference = a-b\n",
    "np.linalg.norm(difference)"
   ]
  },
  {
   "cell_type": "code",
   "execution_count": 6,
   "id": "a3db6867",
   "metadata": {},
   "outputs": [
    {
     "data": {
      "image/png": "[encoded data removed]",
      "text/plain": [
       "<Figure size 432x288 with 1 Axes>"
      ]
     },
     "metadata": {
      "needs_background": "light"
     },
     "output_type": "display_data"
    }
   ],
   "source": [
    "plt.quiver(origin[0],origin[1] ,a[0], a[1], color=\"r\", units=\"xy\", scale=1)\n",
    "plt.quiver(origin[0],origin[1], b[0],b[1], color=\"g\", units=\"xy\", scale=1)\n",
    "plt.quiver(origin[0],origin[1], difference[0],difference[1], color=\"g\", units=\"xy\", scale=1)\n",
    "\n",
    "plt.xlim(-2,2)\n",
    "plt.ylim(-2,2)\n",
    "ax=plt.gca()\n",
    "ax.set_aspect('equal', adjustable='box')\n",
    "ax.grid()\n",
    "plt.show()\n"
   ]
  },
  {
   "cell_type": "code",
   "execution_count": 7,
   "id": "e649da1d",
   "metadata": {},
   "outputs": [
    {
     "name": "stdout",
     "output_type": "stream",
     "text": [
      "c:\\Users\\mso\\Documents\\Uni\\Projekt2\\WindowsNoEditor\\PythonAPI\\IMU_based-vehicle_localization\\src\n"
     ]
    }
   ],
   "source": [
    "PROJECT_ROOT = os.path.abspath(os.path.join(\n",
    "                  os.path.dirname('nav_filter'), \n",
    "                  os.pardir)\n",
    ")\n",
    "sys.path.append(PROJECT_ROOT)\n",
    "print(PROJECT_ROOT)\n",
    "from nav_filter.filterscripts import calculate_differences\n",
    "from nav_filter.filterscripts import calculate_weights\n",
    "\n",
    "\n",
    "test_array = np.full((10,4), np.pi/3)\n",
    "test_angle = np.pi\n",
    "\n",
    "    "
   ]
  },
  {
   "cell_type": "code",
   "execution_count": 8,
   "id": "16c1fd25",
   "metadata": {},
   "outputs": [
    {
     "data": {
      "text/plain": [
       "2.0"
      ]
     },
     "execution_count": 8,
     "metadata": {},
     "output_type": "execute_result"
    }
   ],
   "source": [
    "calculate_differences.get_rotation_difference(np.deg2rad(180), 0)"
   ]
  },
  {
   "cell_type": "code",
   "execution_count": 9,
   "id": "6b781acd",
   "metadata": {},
   "outputs": [
    {
     "data": {
      "text/plain": [
       "3.141592653589793"
      ]
     },
     "execution_count": 9,
     "metadata": {},
     "output_type": "execute_result"
    }
   ],
   "source": [
    "np.deg2rad(180)"
   ]
  },
  {
   "cell_type": "markdown",
   "id": "f7367aae",
   "metadata": {},
   "source": [
    "Test acc difference"
   ]
  },
  {
   "cell_type": "code",
   "execution_count": 10,
   "id": "a8739404",
   "metadata": {},
   "outputs": [],
   "source": [
    "acc_a = np.array([2,0])\n",
    "acc_b = np.array([1,0])\n",
    "\n",
    "acc_diff = calculate_differences.get_acceleration_difference(acc_a, acc_b)\n"
   ]
  },
  {
   "cell_type": "code",
   "execution_count": 19,
   "id": "4add6e5b",
   "metadata": {},
   "outputs": [],
   "source": [
    "test_array = np.array([-1,20, 5,4])\n",
    "result = calculate_weights.calculate_weights_from_differences(test_array)\n",
    "from_hand = np.array([1.        , 0.        , 0.71428571, 0.76190476])"
   ]
  },
  {
   "cell_type": "code",
   "execution_count": 23,
   "id": "fd3b8c5e",
   "metadata": {},
   "outputs": [
    {
     "data": {
      "text/plain": [
       "True"
      ]
     },
     "execution_count": 23,
     "metadata": {},
     "output_type": "execute_result"
    }
   ],
   "source": [
    "np.allclose(result, from_hand)"
   ]
  },
  {
   "cell_type": "code",
   "execution_count": 22,
   "id": "0b068731",
   "metadata": {},
   "outputs": [
    {
     "data": {
      "text/plain": [
       "True"
      ]
     },
     "execution_count": 22,
     "metadata": {},
     "output_type": "execute_result"
    }
   ],
   "source": [
    "type(result[2]) == type(from_hand[2])"
   ]
  },
  {
   "cell_type": "code",
   "execution_count": 25,
   "id": "00ffcbc6",
   "metadata": {},
   "outputs": [
    {
     "ename": "TypeError",
     "evalue": "_mean_dispatcher() got multiple values for argument 'axis'",
     "output_type": "error",
     "traceback": [
      "\u001b[1;31m---------------------------------------------------------------------------\u001b[0m",
      "\u001b[1;31mTypeError\u001b[0m                                 Traceback (most recent call last)",
      "\u001b[1;32m~\\AppData\\Local\\Temp\\ipykernel_22316\\4101166788.py\u001b[0m in \u001b[0;36m<module>\u001b[1;34m\u001b[0m\n\u001b[1;32m----> 1\u001b[1;33m \u001b[0mnp\u001b[0m\u001b[1;33m.\u001b[0m\u001b[0mmean\u001b[0m\u001b[1;33m(\u001b[0m\u001b[0mtest_array\u001b[0m\u001b[1;33m,\u001b[0m \u001b[0mresult\u001b[0m\u001b[1;33m,\u001b[0m \u001b[0maxis\u001b[0m\u001b[1;33m=\u001b[0m\u001b[1;36m1\u001b[0m\u001b[1;33m)\u001b[0m\u001b[1;33m\u001b[0m\u001b[1;33m\u001b[0m\u001b[0m\n\u001b[0m",
      "\u001b[1;32m<__array_function__ internals>\u001b[0m in \u001b[0;36mmean\u001b[1;34m(*args, **kwargs)\u001b[0m\n",
      "\u001b[1;31mTypeError\u001b[0m: _mean_dispatcher() got multiple values for argument 'axis'"
     ]
    }
   ],
   "source": []
  },
  {
   "cell_type": "code",
   "execution_count": null,
   "id": "3cbf1695",
   "metadata": {},
   "outputs": [],
   "source": []
  }
 ],
 "metadata": {
  "kernelspec": {
   "display_name": "Python 3.8.13 ('autonomous')",
   "language": "python",
   "name": "python3"
  },
  "language_info": {
   "codemirror_mode": {
    "name": "ipython",
    "version": 3
   },
   "file_extension": ".py",
   "mimetype": "text/x-python",
   "name": "python",
   "nbconvert_exporter": "python",
   "pygments_lexer": "ipython3",
   "version": "3.8.13"
  },
  "vscode": {
   "interpreter": {
    "hash": "981abfea0e18570999fcb600e9460178291f8a3fb15401c6f1479c763076018b"
   }
  }
 },
 "nbformat": 4,
 "nbformat_minor": 5
}
