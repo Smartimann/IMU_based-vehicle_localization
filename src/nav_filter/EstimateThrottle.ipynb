{
 "cells": [
  {
   "cell_type": "code",
   "execution_count": 88,
   "id": "68ab81d0",
   "metadata": {},
   "outputs": [],
   "source": [
    "import numpy as np\n",
    "import pandas as pd\n",
    "import matplotlib.pyplot as plt\n",
    "from scipy import stats\n",
    "\n",
    "%matplotlib inline"
   ]
  },
  {
   "cell_type": "code",
   "execution_count": 89,
   "id": "5c87cca7",
   "metadata": {},
   "outputs": [],
   "source": [
    "test_data = pd.read_csv(\"../data/test_likelihood_2.csv\")\n",
    "\n",
    "acc_measures = []\n",
    "for i,a in enumerate(test_data['acc_x']): \n",
    "    acc_measures.append(np.linalg.norm(np.array([test_data['acc_x'][i], test_data['acc_y'][i]])))\n",
    "\n",
    "test_data['acc_measured'] = acc_measures\n",
    "\n",
    "\n",
    "\n",
    "acc_likelihoods = []\n",
    "for i in range(len(test_data['acc'])):\n",
    "    acc_likelihoods.append(stats.norm(test_data['acc'][i], .2).pdf(test_data['acc_measured'][i]))\n",
    "test_data['likelihood'] = acc_likelihoods\n",
    "\n",
    "rot_likelihoods = []\n",
    "for i in range(len(test_data['theta'])):\n",
    "    rot_likelihoods.append(stats.norm(test_data['theta'][i], .2).pdf(test_data['orientation'][i]))\n",
    "test_data['rot_likelihood'] = rot_likelihoods"
   ]
  },
  {
   "cell_type": "code",
   "execution_count": 90,
   "id": "530b74b3",
   "metadata": {},
   "outputs": [],
   "source": [
    "weights = np.full(test_data['likelihood'].values.shape,0.01 )\n"
   ]
  },
  {
   "cell_type": "code",
   "execution_count": 128,
   "id": "d77c3579",
   "metadata": {},
   "outputs": [
    {
     "name": "stdout",
     "output_type": "stream",
     "text": [
      "Max likelihood:  1.7460947030003422 Min likelihood:  0.6434199913875924\n",
      "Max weight:  0.23083537722309413 Min weight:  7.718254308042471e-18\n"
     ]
    },
    {
     "data": {
      "text/plain": [
       "6.228171048413771"
      ]
     },
     "execution_count": 128,
     "metadata": {},
     "output_type": "execute_result"
    }
   ],
   "source": [
    "weights *= test_data['likelihood']\n",
    "weights += 1.e-300\n",
    "    \n",
    "weights /= sum(weights) # normalize\n",
    "print(\"Max likelihood: \", test_data['likelihood'].max(), \"Min likelihood: \",test_data['likelihood'].min()) \n",
    "print(\"Max weight: \", weights.max(), \"Min weight: \",weights.min()) \n",
    "neff(weights)\n"
   ]
  },
  {
   "cell_type": "code",
   "execution_count": 130,
   "id": "e445820e",
   "metadata": {},
   "outputs": [
    {
     "data": {
      "text/plain": [
       "50.0"
      ]
     },
     "execution_count": 130,
     "metadata": {},
     "output_type": "execute_result"
    }
   ],
   "source": [
    "100/2"
   ]
  },
  {
   "cell_type": "code",
   "execution_count": 85,
   "id": "7d810a15",
   "metadata": {},
   "outputs": [],
   "source": [
    "def neff(weights):\n",
    "    return 1. / np.sum(np.square(weights))"
   ]
  },
  {
   "cell_type": "code",
   "execution_count": 30,
   "id": "29d9dc3c",
   "metadata": {},
   "outputs": [],
   "source": [
    "test_data = pd.read_csv(\"../data/test_acceleration.csv\")\n",
    "acc_measures = []\n",
    "for i in range(len(test_data)): \n",
    "    acc_measures.append(np.linalg.norm(np.array([test_data['acc_x'][i], test_data['acc_y'][i]])))\n",
    "\n",
    "test_data['acc_measures'] = acc_measures"
   ]
  },
  {
   "cell_type": "code",
   "execution_count": 31,
   "id": "389868ec",
   "metadata": {},
   "outputs": [
    {
     "data": {
      "text/html": [
       "<div>\n",
       "<style scoped>\n",
       "    .dataframe tbody tr th:only-of-type {\n",
       "        vertical-align: middle;\n",
       "    }\n",
       "\n",
       "    .dataframe tbody tr th {\n",
       "        vertical-align: top;\n",
       "    }\n",
       "\n",
       "    .dataframe thead th {\n",
       "        text-align: right;\n",
       "    }\n",
       "</style>\n",
       "<table border=\"1\" class=\"dataframe\">\n",
       "  <thead>\n",
       "    <tr style=\"text-align: right;\">\n",
       "      <th></th>\n",
       "      <th>Unnamed: 0</th>\n",
       "      <th>acc</th>\n",
       "      <th>acc_x</th>\n",
       "      <th>acc_y</th>\n",
       "      <th>acc_measures</th>\n",
       "    </tr>\n",
       "  </thead>\n",
       "  <tbody>\n",
       "    <tr>\n",
       "      <th>0</th>\n",
       "      <td>0</td>\n",
       "      <td>0.199925</td>\n",
       "      <td>0.409125</td>\n",
       "      <td>-0.174754</td>\n",
       "      <td>0.444884</td>\n",
       "    </tr>\n",
       "    <tr>\n",
       "      <th>1</th>\n",
       "      <td>1</td>\n",
       "      <td>-0.295246</td>\n",
       "      <td>2007.826621</td>\n",
       "      <td>4.891604</td>\n",
       "      <td>2007.832579</td>\n",
       "    </tr>\n",
       "    <tr>\n",
       "      <th>2</th>\n",
       "      <td>2</td>\n",
       "      <td>-5.118920</td>\n",
       "      <td>845.646161</td>\n",
       "      <td>-66.945236</td>\n",
       "      <td>848.291869</td>\n",
       "    </tr>\n",
       "    <tr>\n",
       "      <th>3</th>\n",
       "      <td>3</td>\n",
       "      <td>7.917599</td>\n",
       "      <td>-145.401522</td>\n",
       "      <td>9.366354</td>\n",
       "      <td>145.702886</td>\n",
       "    </tr>\n",
       "    <tr>\n",
       "      <th>4</th>\n",
       "      <td>4</td>\n",
       "      <td>0.185752</td>\n",
       "      <td>-1160.779575</td>\n",
       "      <td>20.539809</td>\n",
       "      <td>1160.961285</td>\n",
       "    </tr>\n",
       "  </tbody>\n",
       "</table>\n",
       "</div>"
      ],
      "text/plain": [
       "   Unnamed: 0       acc        acc_x      acc_y  acc_measures\n",
       "0           0  0.199925     0.409125  -0.174754      0.444884\n",
       "1           1 -0.295246  2007.826621   4.891604   2007.832579\n",
       "2           2 -5.118920   845.646161 -66.945236    848.291869\n",
       "3           3  7.917599  -145.401522   9.366354    145.702886\n",
       "4           4  0.185752 -1160.779575  20.539809   1160.961285"
      ]
     },
     "execution_count": 31,
     "metadata": {},
     "output_type": "execute_result"
    }
   ],
   "source": [
    "test_data"
   ]
  },
  {
   "cell_type": "code",
   "execution_count": null,
   "id": "1b23c48a",
   "metadata": {},
   "outputs": [],
   "source": []
  }
 ],
 "metadata": {
  "kernelspec": {
   "display_name": "Python 3.8.13 ('autonomous')",
   "language": "python",
   "name": "python3"
  },
  "language_info": {
   "codemirror_mode": {
    "name": "ipython",
    "version": 3
   },
   "file_extension": ".py",
   "mimetype": "text/x-python",
   "name": "python",
   "nbconvert_exporter": "python",
   "pygments_lexer": "ipython3",
   "version": "3.8.13"
  },
  "vscode": {
   "interpreter": {
    "hash": "981abfea0e18570999fcb600e9460178291f8a3fb15401c6f1479c763076018b"
   }
  }
 },
 "nbformat": 4,
 "nbformat_minor": 5
}
