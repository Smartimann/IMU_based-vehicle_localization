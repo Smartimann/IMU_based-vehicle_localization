{
 "cells": [
  {
   "cell_type": "code",
   "execution_count": 22,
   "id": "68ab81d0",
   "metadata": {},
   "outputs": [],
   "source": [
    "import numpy as np\n",
    "import pandas as pd\n",
    "import matplotlib.pyplot as plt\n",
    "from scipy import stats\n",
    "\n",
    "%matplotlib inline"
   ]
  },
  {
   "cell_type": "code",
   "execution_count": 23,
   "id": "5c87cca7",
   "metadata": {},
   "outputs": [],
   "source": [
    "test_data = pd.read_csv(\"../data/test_likelihood.csv\")"
   ]
  },
  {
   "cell_type": "code",
   "execution_count": 24,
   "id": "530b74b3",
   "metadata": {},
   "outputs": [],
   "source": [
    "acc_measures = []\n",
    "for i,a in enumerate(test_data['acc_x']): \n",
    "    acc_measures.append(np.linalg.norm(np.array([test_data['acc_x'][i], test_data['acc_y'][i]])))\n",
    "\n",
    "test_data['acc_measured'] = acc_measures"
   ]
  },
  {
   "cell_type": "code",
   "execution_count": 28,
   "id": "29d9dc3c",
   "metadata": {},
   "outputs": [
    {
     "name": "stdout",
     "output_type": "stream",
     "text": [
      "0\n",
      "1\n",
      "2\n",
      "3\n",
      "4\n"
     ]
    }
   ],
   "source": [
    "test_data = pd.read_csv(\"../data/test_acceleration.csv\")\n",
    "acc_measures = []\n",
    "for i in range(len(test_data)): \n",
    "    acc_measures.append([test_data['acc_x'][i], test_data['acc_y'][i]])"
   ]
  },
  {
   "cell_type": "code",
   "execution_count": null,
   "id": "389868ec",
   "metadata": {},
   "outputs": [],
   "source": []
  }
 ],
 "metadata": {
  "kernelspec": {
   "display_name": "Python 3.8.13 ('autonomous')",
   "language": "python",
   "name": "python3"
  },
  "language_info": {
   "codemirror_mode": {
    "name": "ipython",
    "version": 3
   },
   "file_extension": ".py",
   "mimetype": "text/x-python",
   "name": "python",
   "nbconvert_exporter": "python",
   "pygments_lexer": "ipython3",
   "version": "3.8.13"
  },
  "vscode": {
   "interpreter": {
    "hash": "981abfea0e18570999fcb600e9460178291f8a3fb15401c6f1479c763076018b"
   }
  }
 },
 "nbformat": 4,
 "nbformat_minor": 5
}
