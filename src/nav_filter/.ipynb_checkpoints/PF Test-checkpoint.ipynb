{
 "cells": [
  {
   "cell_type": "code",
   "execution_count": 4,
   "id": "f84f87e8",
   "metadata": {},
   "outputs": [],
   "source": [
    "import numpy as np\n",
    "import pandas as pd\n",
    "import cv2 as cv\n",
    "import matplotlib.pyplot as plt\n",
    "import sys\n",
    "import os\n",
    "from filterpy.monte_carlo import systematic_resample\n",
    "\n",
    "%matplotlib inline"
   ]
  },
  {
   "cell_type": "code",
   "execution_count": 5,
   "id": "ce6ad96b",
   "metadata": {},
   "outputs": [],
   "source": [
    "PROJECT_ROOT = os.path.abspath(os.path.join(\n",
    "                  os.path.dirname('utils'), \n",
    "                  os.pardir)\n",
    ")\n",
    "sys.path.append(PROJECT_ROOT)"
   ]
  },
  {
   "cell_type": "code",
   "execution_count": 6,
   "id": "7cadc046",
   "metadata": {},
   "outputs": [],
   "source": [
    "from filterscripts import distance_map"
   ]
  },
  {
   "cell_type": "markdown",
   "id": "ea7a44de",
   "metadata": {},
   "source": [
    "## Load Distance Map"
   ]
  },
  {
   "cell_type": "code",
   "execution_count": 7,
   "id": "299f2bd2",
   "metadata": {},
   "outputs": [
    {
     "name": "stdout",
     "output_type": "stream",
     "text": [
      "Converted Points (135, 2)\n",
      "(2195, 2340)\n"
     ]
    }
   ],
   "source": [
    "dm = distance_map.DistanceMap(1, 100, 'road_points_data_test')"
   ]
  },
  {
   "cell_type": "markdown",
   "id": "63024e7d",
   "metadata": {},
   "source": [
    "## Create Uniform Particles"
   ]
  },
  {
   "cell_type": "code",
   "execution_count": 46,
   "id": "6ee11e77",
   "metadata": {},
   "outputs": [],
   "source": [
    "from numpy.random import uniform\n",
    "\n",
    "def create_uniform_particles(x_range, y_range, x_dot_range, y_dot_range,x_ddot_range, y_ddot_range, theta_range, delta_range,N):\n",
    "    particles = np.empty((N, 8))\n",
    "    particles[:, 0] = uniform(x_range[0], x_range[1], size=N)\n",
    "    particles[:, 1] = uniform(y_range[0], y_range[1], size=N)\n",
    "    particles[:, 2] = uniform(x_dot_range[0], x_dot_range[1], size=N)\n",
    "    particles[:, 3] = uniform(y_dot_range[0], y_dot_range[1], size=N)\n",
    "    particles[:, 4] = uniform(x_ddot_range[0], x_ddot_range[1], size=N)\n",
    "    particles[:, 5] = uniform(y_ddot_range[0], y_ddot_range[1], size=N)    \n",
    "    particles[:, 6] = uniform(theta_range[0], theta_range[1], size=N)\n",
    "    particles[:, 7] = uniform(delta_range[0], delta_range[1], size=N)\n",
    "    particles[:, 6] %= 2 * np.pi\n",
    "    particles[:, 7] %= 2 * np.pi\n",
    "    return particles"
   ]
  },
  {
   "cell_type": "markdown",
   "id": "cffd51b9",
   "metadata": {},
   "source": [
    "## Recreation of the model\n",
    "We have our state: \n",
    "\n",
    "$\\vec x = \\begin{bmatrix} x, y, \\dot x, \\dot y, \\ddot x , \\ddot y, \\theta, \\delta \\end{bmatrix}^T$\n",
    "\n",
    "And we have our control input: \n",
    "$\\vec u = \\begin{bmatrix} \\ddot x_u, \\ddot y_u, \\varphi \\end{bmatrix}$ \n",
    "\n",
    "We also have our measurements: \n",
    "$\\vec z = \\begin{bmatrix} \\ddot x_z, \\ddot y_z, \\theta \\end{bmatrix}$ \n",
    "\n",
    "The state transfer function does the following calculation: \n",
    "\n",
    "$\n",
    "\\vec x_{t+1} = \n",
    "\\begin{bmatrix} x_{t+1}\\\\ y_{t+1}\\\\ \\dot x_{t+1}\\\\\n",
    "\\dot y_{t+1}\\\\\n",
    "\\ddot x_{t+1}\\\\\n",
    "\\ddot y_{t+1} \\\\\n",
    "\\theta_{t+1} \\\\ \n",
    "\\delta_{t+1} \\\\\n",
    "\\end{bmatrix}\n",
    "=\n",
    "\\begin{bmatrix} \n",
    "x_t + v\\cos(\\theta_t + \\delta_t)  \\Delta t\\\\ \n",
    "y_t + v\\sin(\\theta_t + \\delta_t)  \\Delta t\\\\ \n",
    "\\dot x_t + \\ddot x_{t} \\Delta t\\\\ \n",
    "\\dot y_t + \\ddot y_{t} \\Delta t\\\\\n",
    "%\\ddot x_t + \\dddot x_t \\Delta t \\\\ \n",
    "%\\ddot y_t + \\dddot y_t \\Delta t\\\\ \n",
    "\\ddot x_{u_t}\\\\\n",
    "\\ddot y_{u_t}\\\\\n",
    "\\theta_t + \\frac{v\\sin(\\delta)}{L} \\Delta t\\\\ \n",
    "\\delta + \\varphi \\Delta t\n",
    "\\end{bmatrix}$"
   ]
  },
  {
   "cell_type": "code",
   "execution_count": 47,
   "id": "5e1ff849",
   "metadata": {},
   "outputs": [],
   "source": [
    "# z = x-0,y-1,x_dot-2, y_dot-3, x_ddot-4, y_ddot-5, theta-6, delta-7\n",
    "# u = acc_x, acc_y, steering \n",
    "def F(x, u, step, L): \n",
    "    # calculate nect velocity\n",
    "    x_dot_next = x[2] + (x[4] * step)\n",
    "    y_dot_next = x[3] + (x[5] * step)\n",
    "    # control input as next acceleration\n",
    "    x_ddot_next = u[0]\n",
    "    y_ddot_next = u[1]\n",
    "    # calculate velocity scalar\n",
    "    velocity = np.linalg.norm((x[2], x[3]))\n",
    "    # get next position\n",
    "    x_next = x[0] + (velocity*np.cos(x[6] + x[7]) * step)\n",
    "    y_next = x[1] + (velocity*np.sin(x[6] + x[7]) * step)\n",
    "    #calculate theta and delta\n",
    "    theta_next = x[6] + (((velocity*np.sin(x[7]))/L) * step)\n",
    "    delta_next = x[7] + (u[2] * step)\n",
    "    \n",
    "    \n",
    "    return np.array([x_next, y_next,x_dot_next, y_dot_nextx_ddot_next, y_ddot_next, theta_next, delta_next], dtype=object) "
   ]
  },
  {
   "cell_type": "markdown",
   "id": "e1601721",
   "metadata": {},
   "source": [
    "## Create Particle Filter"
   ]
  },
  {
   "cell_type": "code",
   "execution_count": 48,
   "id": "617f88d2",
   "metadata": {},
   "outputs": [],
   "source": [
    "def predict(particles, u, std, dt, L): \n",
    "    N = len(particles) \n",
    "    # Needs noise: not in a for loop\n",
    "    for i in range(len(particles)): \n",
    "        particles[i] = F(particles[i], u, dt, L)\n",
    "\n",
    "def update(particles, weights,z, distance_map):\n",
    "    for i, particle in enumerate(particles):\n",
    "        pi = dm.coord_to_image(particle[0:2])\n",
    "        \n",
    "        if (pi[0] < dm.distance_map.shape[1] and pi[0] > 0 and pi[1] < dm.distance_map.shape[0] and pi[1] > 0): \n",
    "            distance = dm.distance_map[pi[1], pi[0]]# y,x\n",
    "            rotation_difference = abs((abs(pi[6]-z[2])+180) %360 - 180)# index 6 = theta\n",
    "        else:    \n",
    "            weights[i] = 0\n",
    "                \n",
    "    weights += 1.e-300\n",
    "    weights /= sum(weights) # normalize\n",
    "    #print(weights)\n",
    "\n",
    "    \n",
    "def estimate(particles, weight): \n",
    "    pos = particles[:,0:2]\n",
    "    mean = np.average(pos, weights=weights, axis=0)\n",
    "    var  = np.average((pos - mean)**2, weights=weights, axis=0)\n",
    "    return mean, var\n",
    "\n",
    "\n",
    "def resample_from_index(particles, weights, indexes):\n",
    "    particles[:] = particles[indexes]\n",
    "    weights.resize(len(particles))\n",
    "    weights.fill (1.0 / len(weights))\n",
    "    \n",
    "def neff(weights):\n",
    "    return 1. / np.sum(np.square(weights))"
   ]
  },
  {
   "cell_type": "markdown",
   "id": "1f78358f",
   "metadata": {},
   "source": [
    "## Load and Prepare IMU Data"
   ]
  },
  {
   "cell_type": "code",
   "execution_count": 49,
   "id": "3e6b8ac1",
   "metadata": {},
   "outputs": [],
   "source": [
    "simulation_data = pd.read_csv(\"../data/Simulation_test_run25_07_22_15_12_19.csv\")"
   ]
  },
  {
   "cell_type": "code",
   "execution_count": 50,
   "id": "04820a62",
   "metadata": {},
   "outputs": [],
   "source": [
    "def get_rotation_matrix(theta): \n",
    "    return np.array([[np.cos(theta), np.sin(theta)], [-np.sin(theta), np.cos(theta)]])"
   ]
  },
  {
   "cell_type": "code",
   "execution_count": 51,
   "id": "da7b18f6",
   "metadata": {},
   "outputs": [],
   "source": [
    "local_acc = np.stack((simulation_data['accelerometer_x'], simulation_data['accelerometer_y']), axis = 1)"
   ]
  },
  {
   "cell_type": "code",
   "execution_count": 52,
   "id": "f04f3e81",
   "metadata": {},
   "outputs": [],
   "source": [
    "matrices = []\n",
    "for o in simulation_data['orientations'].values: \n",
    "    matrices.append(get_rotation_matrix(o))\n",
    "matrices = np.array(matrices)"
   ]
  },
  {
   "cell_type": "code",
   "execution_count": 53,
   "id": "eb37e2d1",
   "metadata": {},
   "outputs": [],
   "source": [
    "global_acc = []\n",
    "for i in range(len(matrices)): \n",
    "    global_acc.append(np.dot(local_acc[i], matrices[i]))\n",
    "global_acc = np.array(global_acc)"
   ]
  },
  {
   "cell_type": "code",
   "execution_count": 54,
   "id": "8666c3ff",
   "metadata": {},
   "outputs": [],
   "source": [
    "simulation_data['accelerometer_x'] = global_acc[:, 0]\n",
    "simulation_data['accelerometer_y'] = global_acc[:, 1]"
   ]
  },
  {
   "cell_type": "code",
   "execution_count": 55,
   "id": "c68be3d8",
   "metadata": {},
   "outputs": [
    {
     "data": {
      "text/html": [
       "<div>\n",
       "<style scoped>\n",
       "    .dataframe tbody tr th:only-of-type {\n",
       "        vertical-align: middle;\n",
       "    }\n",
       "\n",
       "    .dataframe tbody tr th {\n",
       "        vertical-align: top;\n",
       "    }\n",
       "\n",
       "    .dataframe thead th {\n",
       "        text-align: right;\n",
       "    }\n",
       "</style>\n",
       "<table border=\"1\" class=\"dataframe\">\n",
       "  <thead>\n",
       "    <tr style=\"text-align: right;\">\n",
       "      <th></th>\n",
       "      <th>Unnamed: 0</th>\n",
       "      <th>accelerometer_x</th>\n",
       "      <th>accelerometer_y</th>\n",
       "      <th>accelerometer_z</th>\n",
       "      <th>gyroscope_x</th>\n",
       "      <th>gyroscope_y</th>\n",
       "      <th>gyroscope_z</th>\n",
       "      <th>orientations</th>\n",
       "      <th>velocity_x</th>\n",
       "      <th>velocity_y</th>\n",
       "      <th>acc_x</th>\n",
       "      <th>acc_y</th>\n",
       "      <th>steering</th>\n",
       "      <th>throttle</th>\n",
       "      <th>timestamps</th>\n",
       "    </tr>\n",
       "  </thead>\n",
       "  <tbody>\n",
       "    <tr>\n",
       "      <th>0</th>\n",
       "      <td>0</td>\n",
       "      <td>0.010969</td>\n",
       "      <td>-0.000035</td>\n",
       "      <td>9.809995</td>\n",
       "      <td>-3.014304e-06</td>\n",
       "      <td>5.691222e-07</td>\n",
       "      <td>2.787612e-09</td>\n",
       "      <td>6.277576</td>\n",
       "      <td>1.148864e-06</td>\n",
       "      <td>-9.486379e-08</td>\n",
       "      <td>6.160182e-05</td>\n",
       "      <td>0.000001</td>\n",
       "      <td>1.080880</td>\n",
       "      <td>0.0</td>\n",
       "      <td>399.131730</td>\n",
       "    </tr>\n",
       "    <tr>\n",
       "      <th>1</th>\n",
       "      <td>1</td>\n",
       "      <td>-117077.183359</td>\n",
       "      <td>298275.081277</td>\n",
       "      <td>189.615982</td>\n",
       "      <td>-5.553859e-06</td>\n",
       "      <td>-5.523498e-08</td>\n",
       "      <td>5.855874e-09</td>\n",
       "      <td>6.277576</td>\n",
       "      <td>2.298169e-06</td>\n",
       "      <td>1.165987e-08</td>\n",
       "      <td>-3.551771e-06</td>\n",
       "      <td>-0.000008</td>\n",
       "      <td>0.774684</td>\n",
       "      <td>0.0</td>\n",
       "      <td>399.232433</td>\n",
       "    </tr>\n",
       "    <tr>\n",
       "      <th>2</th>\n",
       "      <td>2</td>\n",
       "      <td>0.010526</td>\n",
       "      <td>-0.080055</td>\n",
       "      <td>9.618711</td>\n",
       "      <td>-2.620042e-06</td>\n",
       "      <td>3.842299e-07</td>\n",
       "      <td>3.077485e-09</td>\n",
       "      <td>6.277576</td>\n",
       "      <td>3.503758e-07</td>\n",
       "      <td>-6.687772e-08</td>\n",
       "      <td>-6.425946e-06</td>\n",
       "      <td>-0.000016</td>\n",
       "      <td>0.774684</td>\n",
       "      <td>0.0</td>\n",
       "      <td>399.333717</td>\n",
       "    </tr>\n",
       "    <tr>\n",
       "      <th>3</th>\n",
       "      <td>3</td>\n",
       "      <td>0.003091</td>\n",
       "      <td>0.079962</td>\n",
       "      <td>11.513281</td>\n",
       "      <td>-1.366520e-06</td>\n",
       "      <td>-5.063964e-07</td>\n",
       "      <td>1.483995e-09</td>\n",
       "      <td>6.277576</td>\n",
       "      <td>1.912598e-07</td>\n",
       "      <td>8.674258e-08</td>\n",
       "      <td>-3.061796e-06</td>\n",
       "      <td>-0.000005</td>\n",
       "      <td>0.774684</td>\n",
       "      <td>0.0</td>\n",
       "      <td>399.434443</td>\n",
       "    </tr>\n",
       "    <tr>\n",
       "      <th>4</th>\n",
       "      <td>4</td>\n",
       "      <td>0.021601</td>\n",
       "      <td>-0.040088</td>\n",
       "      <td>10.480647</td>\n",
       "      <td>-1.817601e-07</td>\n",
       "      <td>7.146290e-07</td>\n",
       "      <td>2.455614e-10</td>\n",
       "      <td>6.277576</td>\n",
       "      <td>-6.879272e-09</td>\n",
       "      <td>-1.228105e-07</td>\n",
       "      <td>-2.060989e-05</td>\n",
       "      <td>-0.000012</td>\n",
       "      <td>0.774684</td>\n",
       "      <td>0.0</td>\n",
       "      <td>399.535014</td>\n",
       "    </tr>\n",
       "    <tr>\n",
       "      <th>...</th>\n",
       "      <td>...</td>\n",
       "      <td>...</td>\n",
       "      <td>...</td>\n",
       "      <td>...</td>\n",
       "      <td>...</td>\n",
       "      <td>...</td>\n",
       "      <td>...</td>\n",
       "      <td>...</td>\n",
       "      <td>...</td>\n",
       "      <td>...</td>\n",
       "      <td>...</td>\n",
       "      <td>...</td>\n",
       "      <td>...</td>\n",
       "      <td>...</td>\n",
       "      <td>...</td>\n",
       "    </tr>\n",
       "    <tr>\n",
       "      <th>266</th>\n",
       "      <td>266</td>\n",
       "      <td>0.011325</td>\n",
       "      <td>0.001102</td>\n",
       "      <td>10.186302</td>\n",
       "      <td>-8.056574e-09</td>\n",
       "      <td>1.593034e-07</td>\n",
       "      <td>7.061968e-11</td>\n",
       "      <td>0.097122</td>\n",
       "      <td>2.332466e-09</td>\n",
       "      <td>-2.724714e-08</td>\n",
       "      <td>5.035466e-08</td>\n",
       "      <td>-0.000003</td>\n",
       "      <td>0.710389</td>\n",
       "      <td>0.0</td>\n",
       "      <td>425.740227</td>\n",
       "    </tr>\n",
       "    <tr>\n",
       "      <th>267</th>\n",
       "      <td>267</td>\n",
       "      <td>0.012545</td>\n",
       "      <td>-0.038921</td>\n",
       "      <td>9.537975</td>\n",
       "      <td>-7.889801e-08</td>\n",
       "      <td>4.653018e-07</td>\n",
       "      <td>3.170934e-10</td>\n",
       "      <td>0.097122</td>\n",
       "      <td>1.589479e-08</td>\n",
       "      <td>-7.878965e-08</td>\n",
       "      <td>4.833904e-07</td>\n",
       "      <td>-0.000011</td>\n",
       "      <td>0.710389</td>\n",
       "      <td>0.0</td>\n",
       "      <td>425.833171</td>\n",
       "    </tr>\n",
       "    <tr>\n",
       "      <th>268</th>\n",
       "      <td>268</td>\n",
       "      <td>0.054991</td>\n",
       "      <td>-0.076879</td>\n",
       "      <td>10.033772</td>\n",
       "      <td>-1.386132e-08</td>\n",
       "      <td>-2.461014e-07</td>\n",
       "      <td>2.177395e-10</td>\n",
       "      <td>0.097122</td>\n",
       "      <td>2.021086e-08</td>\n",
       "      <td>4.377932e-08</td>\n",
       "      <td>1.858274e-05</td>\n",
       "      <td>-0.000002</td>\n",
       "      <td>0.710389</td>\n",
       "      <td>0.0</td>\n",
       "      <td>425.936098</td>\n",
       "    </tr>\n",
       "    <tr>\n",
       "      <th>269</th>\n",
       "      <td>269</td>\n",
       "      <td>-0.030949</td>\n",
       "      <td>0.039076</td>\n",
       "      <td>9.845573</td>\n",
       "      <td>1.174894e-06</td>\n",
       "      <td>-1.954719e-07</td>\n",
       "      <td>-1.320271e-09</td>\n",
       "      <td>0.097122</td>\n",
       "      <td>-1.776822e-07</td>\n",
       "      <td>2.561126e-08</td>\n",
       "      <td>-5.998039e-06</td>\n",
       "      <td>-0.000005</td>\n",
       "      <td>0.710389</td>\n",
       "      <td>0.0</td>\n",
       "      <td>426.039728</td>\n",
       "    </tr>\n",
       "    <tr>\n",
       "      <th>270</th>\n",
       "      <td>270</td>\n",
       "      <td>0.090874</td>\n",
       "      <td>0.004950</td>\n",
       "      <td>9.865383</td>\n",
       "      <td>-3.931185e-08</td>\n",
       "      <td>5.680258e-08</td>\n",
       "      <td>3.483090e-11</td>\n",
       "      <td>0.097122</td>\n",
       "      <td>-4.280750e-09</td>\n",
       "      <td>-9.777054e-09</td>\n",
       "      <td>-6.485223e-06</td>\n",
       "      <td>-0.000004</td>\n",
       "      <td>0.710389</td>\n",
       "      <td>0.0</td>\n",
       "      <td>426.132949</td>\n",
       "    </tr>\n",
       "  </tbody>\n",
       "</table>\n",
       "<p>271 rows × 15 columns</p>\n",
       "</div>"
      ],
      "text/plain": [
       "     Unnamed: 0  accelerometer_x  accelerometer_y  accelerometer_z  \\\n",
       "0             0         0.010969        -0.000035         9.809995   \n",
       "1             1   -117077.183359    298275.081277       189.615982   \n",
       "2             2         0.010526        -0.080055         9.618711   \n",
       "3             3         0.003091         0.079962        11.513281   \n",
       "4             4         0.021601        -0.040088        10.480647   \n",
       "..          ...              ...              ...              ...   \n",
       "266         266         0.011325         0.001102        10.186302   \n",
       "267         267         0.012545        -0.038921         9.537975   \n",
       "268         268         0.054991        -0.076879        10.033772   \n",
       "269         269        -0.030949         0.039076         9.845573   \n",
       "270         270         0.090874         0.004950         9.865383   \n",
       "\n",
       "      gyroscope_x   gyroscope_y   gyroscope_z  orientations    velocity_x  \\\n",
       "0   -3.014304e-06  5.691222e-07  2.787612e-09      6.277576  1.148864e-06   \n",
       "1   -5.553859e-06 -5.523498e-08  5.855874e-09      6.277576  2.298169e-06   \n",
       "2   -2.620042e-06  3.842299e-07  3.077485e-09      6.277576  3.503758e-07   \n",
       "3   -1.366520e-06 -5.063964e-07  1.483995e-09      6.277576  1.912598e-07   \n",
       "4   -1.817601e-07  7.146290e-07  2.455614e-10      6.277576 -6.879272e-09   \n",
       "..            ...           ...           ...           ...           ...   \n",
       "266 -8.056574e-09  1.593034e-07  7.061968e-11      0.097122  2.332466e-09   \n",
       "267 -7.889801e-08  4.653018e-07  3.170934e-10      0.097122  1.589479e-08   \n",
       "268 -1.386132e-08 -2.461014e-07  2.177395e-10      0.097122  2.021086e-08   \n",
       "269  1.174894e-06 -1.954719e-07 -1.320271e-09      0.097122 -1.776822e-07   \n",
       "270 -3.931185e-08  5.680258e-08  3.483090e-11      0.097122 -4.280750e-09   \n",
       "\n",
       "       velocity_y         acc_x     acc_y  steering  throttle  timestamps  \n",
       "0   -9.486379e-08  6.160182e-05  0.000001  1.080880       0.0  399.131730  \n",
       "1    1.165987e-08 -3.551771e-06 -0.000008  0.774684       0.0  399.232433  \n",
       "2   -6.687772e-08 -6.425946e-06 -0.000016  0.774684       0.0  399.333717  \n",
       "3    8.674258e-08 -3.061796e-06 -0.000005  0.774684       0.0  399.434443  \n",
       "4   -1.228105e-07 -2.060989e-05 -0.000012  0.774684       0.0  399.535014  \n",
       "..            ...           ...       ...       ...       ...         ...  \n",
       "266 -2.724714e-08  5.035466e-08 -0.000003  0.710389       0.0  425.740227  \n",
       "267 -7.878965e-08  4.833904e-07 -0.000011  0.710389       0.0  425.833171  \n",
       "268  4.377932e-08  1.858274e-05 -0.000002  0.710389       0.0  425.936098  \n",
       "269  2.561126e-08 -5.998039e-06 -0.000005  0.710389       0.0  426.039728  \n",
       "270 -9.777054e-09 -6.485223e-06 -0.000004  0.710389       0.0  426.132949  \n",
       "\n",
       "[271 rows x 15 columns]"
      ]
     },
     "execution_count": 55,
     "metadata": {},
     "output_type": "execute_result"
    }
   ],
   "source": [
    "simulation_data"
   ]
  },
  {
   "cell_type": "code",
   "execution_count": 56,
   "id": "bbdf65c1",
   "metadata": {},
   "outputs": [],
   "source": [
    "def plot_particles(particles): \n",
    "    converted_particles = []\n",
    "    for rp in particles: \n",
    "        converted_particles.append(dm.coord_to_image(np.array([rp[0], rp[1]])))\n",
    "    converted_particles = np.array(converted_particles)\n",
    "    plt.imshow(dm.distance_map, cmap=\"gray\")\n",
    "    plt.scatter(converted_particles[:,0], converted_particles[:,1])\n",
    "\n",
    "    plt.show()"
   ]
  },
  {
   "cell_type": "markdown",
   "id": "0cc99a2e",
   "metadata": {},
   "source": [
    "## First test"
   ]
  },
  {
   "cell_type": "markdown",
   "id": "3cd89f75",
   "metadata": {},
   "source": [
    "Faked Control Inputs"
   ]
  },
  {
   "cell_type": "markdown",
   "id": "08dde99c",
   "metadata": {},
   "source": [
    "Real COntrol Inputs"
   ]
  },
  {
   "cell_type": "code",
   "execution_count": 59,
   "id": "e612706f",
   "metadata": {},
   "outputs": [],
   "source": [
    "us = np.stack([simulation_data['acc_x'], simulation_data['acc_y'], simulation_data['steering'].values], axis=1)"
   ]
  },
  {
   "cell_type": "code",
   "execution_count": 60,
   "id": "df14cf83",
   "metadata": {},
   "outputs": [],
   "source": [
    "zs = np.stack([simulation_data['accelerometer_x'], simulation_data['accelerometer_y'], simulation_data['orientations']], axis=1)"
   ]
  },
  {
   "cell_type": "code",
   "execution_count": 45,
   "id": "ad7d7a1a",
   "metadata": {},
   "outputs": [
    {
     "ename": "IndexError",
     "evalue": "index 6 is out of bounds for axis 1 with size 6",
     "output_type": "error",
     "traceback": [
      "\u001b[1;31m---------------------------------------------------------------------------\u001b[0m",
      "\u001b[1;31mIndexError\u001b[0m                                Traceback (most recent call last)",
      "Input \u001b[1;32mIn [45]\u001b[0m, in \u001b[0;36m<cell line: 24>\u001b[1;34m()\u001b[0m\n\u001b[0;32m     22\u001b[0m theta_range \u001b[38;5;241m=\u001b[39m [\u001b[38;5;241m0\u001b[39m,\u001b[38;5;241m2\u001b[39m\u001b[38;5;241m*\u001b[39mnp\u001b[38;5;241m.\u001b[39mpi]\n\u001b[0;32m     23\u001b[0m delta_range \u001b[38;5;241m=\u001b[39m [\u001b[38;5;241m-\u001b[39mnp\u001b[38;5;241m.\u001b[39mpi\u001b[38;5;241m/\u001b[39m\u001b[38;5;241m2\u001b[39m, np\u001b[38;5;241m.\u001b[39mpi\u001b[38;5;241m/\u001b[39m\u001b[38;5;241m2\u001b[39m]\n\u001b[1;32m---> 24\u001b[0m particles \u001b[38;5;241m=\u001b[39m \u001b[43mcreate_uniform_particles\u001b[49m\u001b[43m(\u001b[49m\u001b[43mx_range\u001b[49m\u001b[43m,\u001b[49m\u001b[43m \u001b[49m\u001b[43my_range\u001b[49m\u001b[43m,\u001b[49m\u001b[43m \u001b[49m\u001b[43mx_dot_range\u001b[49m\u001b[43m,\u001b[49m\u001b[43m \u001b[49m\u001b[43my_dot_range\u001b[49m\u001b[43m,\u001b[49m\u001b[43mx_ddot_range\u001b[49m\u001b[43m,\u001b[49m\u001b[43m \u001b[49m\u001b[43my_ddot_range\u001b[49m\u001b[43m,\u001b[49m\u001b[43m \u001b[49m\u001b[43mtheta_range\u001b[49m\u001b[43m,\u001b[49m\u001b[43m \u001b[49m\u001b[43mdelta_range\u001b[49m\u001b[43m,\u001b[49m\u001b[43m \u001b[49m\u001b[43mN\u001b[49m\u001b[43m)\u001b[49m\n\u001b[0;32m     25\u001b[0m weights \u001b[38;5;241m=\u001b[39m np\u001b[38;5;241m.\u001b[39mfull((particles\u001b[38;5;241m.\u001b[39mshape[\u001b[38;5;241m0\u001b[39m],), \u001b[38;5;241m1\u001b[39m\u001b[38;5;241m/\u001b[39mparticles\u001b[38;5;241m.\u001b[39mshape[\u001b[38;5;241m0\u001b[39m])\n\u001b[0;32m     27\u001b[0m shall_plot \u001b[38;5;241m=\u001b[39m \u001b[38;5;28;01mFalse\u001b[39;00m\n",
      "Input \u001b[1;32mIn [32]\u001b[0m, in \u001b[0;36mcreate_uniform_particles\u001b[1;34m(x_range, y_range, x_dot_range, y_dot_range, x_ddot_range, y_ddot_range, theta_range, delta_range, N)\u001b[0m\n\u001b[0;32m      9\u001b[0m particles[:, \u001b[38;5;241m4\u001b[39m] \u001b[38;5;241m=\u001b[39m uniform(x_ddot_range[\u001b[38;5;241m0\u001b[39m], x_ddot_range[\u001b[38;5;241m1\u001b[39m], size\u001b[38;5;241m=\u001b[39mN)\n\u001b[0;32m     10\u001b[0m particles[:, \u001b[38;5;241m5\u001b[39m] \u001b[38;5;241m=\u001b[39m uniform(y_ddot_range[\u001b[38;5;241m0\u001b[39m], y_ddot_range[\u001b[38;5;241m1\u001b[39m], size\u001b[38;5;241m=\u001b[39mN)    \n\u001b[1;32m---> 11\u001b[0m particles[:, \u001b[38;5;241m6\u001b[39m] \u001b[38;5;241m=\u001b[39m uniform(theta_range[\u001b[38;5;241m0\u001b[39m], theta_range[\u001b[38;5;241m1\u001b[39m], size\u001b[38;5;241m=\u001b[39mN)\n\u001b[0;32m     12\u001b[0m particles[:, \u001b[38;5;241m7\u001b[39m] \u001b[38;5;241m=\u001b[39m uniform(delta_range[\u001b[38;5;241m0\u001b[39m], delta_range[\u001b[38;5;241m1\u001b[39m], size\u001b[38;5;241m=\u001b[39mN)\n\u001b[0;32m     13\u001b[0m particles[:, \u001b[38;5;241m6\u001b[39m] \u001b[38;5;241m%\u001b[39m\u001b[38;5;241m=\u001b[39m \u001b[38;5;241m2\u001b[39m \u001b[38;5;241m*\u001b[39m np\u001b[38;5;241m.\u001b[39mpi\n",
      "\u001b[1;31mIndexError\u001b[0m: index 6 is out of bounds for axis 1 with size 6"
     ]
    }
   ],
   "source": [
    "seconds = 60\n",
    "dt = 1/10\n",
    "Ts=simulation_data['timestamps'].values\n",
    "xs = []\n",
    "L = 1.8\n",
    "N = 100\n",
    "\n",
    "x_min = dm.road_points[:,0].min()\n",
    "x_max = dm.road_points[:,0].max()\n",
    "\n",
    "y_min = dm.road_points[:,1].min()\n",
    "y_max = dm.road_points[:,1].max()\n",
    "\n",
    "\n",
    "x_range = [x_min, x_max]\n",
    "y_range = [y_min, y_max]\n",
    "x_dot_range = [0, 10]\n",
    "y_dot_range = [0, 10]\n",
    "x_ddot_range = [0, 10]\n",
    "y_ddot_range = [0, 10]\n",
    "\n",
    "theta_range = [0,2*np.pi]\n",
    "delta_range = [-np.pi/2, np.pi/2]\n",
    "particles = create_uniform_particles(x_range, y_range, x_dot_range, y_dot_range,x_ddot_range, y_ddot_range, theta_range, delta_range, N)\n",
    "weights = np.full((particles.shape[0],), 1/particles.shape[0])\n",
    "\n",
    "shall_plot = False\n",
    "\n",
    "for i,u in enumerate(Ts): \n",
    "    predict(particles, us[i], 0.02, Ts[i] - Ts[i-1], L)\n",
    "    \n",
    "    update(particles, weights,zs[i], dm.distance_map)\n",
    "    \n",
    "    if (neff(weights) < N/20): \n",
    "        print(\"resampled\")\n",
    "        indexes = systematic_resample(weights)\n",
    "        resample_from_index(particles, weights, indexes)\n",
    "        assert np.allclose(weights, 1/N)\n",
    "    if (shall_plot): \n",
    "        plot_particles(particles)\n",
    " \n",
    "    mu, var = estimate(particles,weights)\n",
    "    \n",
    "    xs.append(mu)\n",
    "xs = np.array(xs)\n"
   ]
  },
  {
   "cell_type": "code",
   "execution_count": 20,
   "id": "be305fa9",
   "metadata": {},
   "outputs": [
    {
     "data": {
      "text/plain": [
       "[]"
      ]
     },
     "execution_count": 20,
     "metadata": {},
     "output_type": "execute_result"
    }
   ],
   "source": [
    "xs"
   ]
  },
  {
   "cell_type": "raw",
   "id": "e51880f1",
   "metadata": {},
   "source": [
    "## Plot particles"
   ]
  },
  {
   "cell_type": "code",
   "execution_count": 21,
   "id": "56c3277a",
   "metadata": {},
   "outputs": [],
   "source": [
    "converted_particles = []\n",
    "for rp in particles: \n",
    "    converted_particles.append(dm.coord_to_image(np.array([rp[0], rp[1]])))\n",
    "converted_particles = np.array(converted_particles)"
   ]
  },
  {
   "cell_type": "code",
   "execution_count": 22,
   "id": "3a1815e8",
   "metadata": {},
   "outputs": [],
   "source": [
    "for i, x in enumerate(xs): \n",
    "    xs[i] = dm.coord_to_image(x)"
   ]
  },
  {
   "cell_type": "code",
   "execution_count": 24,
   "id": "3f709942",
   "metadata": {},
   "outputs": [
    {
     "data": {
      "image/png": "[encoded data removed]",
      "text/plain": [
       "<Figure size 432x288 with 1 Axes>"
      ]
     },
     "metadata": {
      "needs_background": "light"
     },
     "output_type": "display_data"
    }
   ],
   "source": [
    "plt.imshow(dm.distance_map, cmap=\"gray\")\n",
    "\n",
    "plt.scatter(converted_particles[:,0], converted_particles[:,1])\n",
    "#plt.scatter(xs[:,0], xs[:,1])\n",
    "plt.show()"
   ]
  },
  {
   "cell_type": "code",
   "execution_count": 118,
   "id": "9126e154",
   "metadata": {},
   "outputs": [
    {
     "data": {
      "text/plain": [
       "array([  89.87601539,    5.0498498 ,    7.04957677,    6.21794897,\n",
       "          1.45478145, -105.70230154,   43.13096862,    3.80378066,\n",
       "          1.87258304,    5.86148025,    4.88933962,   98.39890965,\n",
       "         29.8924621 ,    3.16951098,    8.8262027 ,    0.19607461,\n",
       "          1.14164864,  -80.00001231,   33.76801197,    1.77112524,\n",
       "          8.77728219,    2.97334356,    1.22797221,  -22.65526556,\n",
       "         48.4184837 ,    4.11103464,    8.87715832,    5.41262946,\n",
       "          0.51397297,  -97.16700096,   18.15731864,    9.01514783,\n",
       "          9.42057396,    5.59581735,    4.88502452,  -60.94060905,\n",
       "        -19.00678056,    2.78089541,    0.88077057,    0.68754409,\n",
       "          4.77713649,   75.65490949,  -21.77465498,    4.0160926 ,\n",
       "          5.7925454 ,    3.07008927,    1.10135832,   68.05551041,\n",
       "         -7.93227455,    0.9160211 ,    1.9939821 ,    5.21538   ,\n",
       "          4.84651794,  -60.40711443,  -19.72959774,    9.64086559,\n",
       "          2.04230472,    2.83494334,    5.23008751])"
      ]
     },
     "execution_count": 118,
     "metadata": {},
     "output_type": "execute_result"
    }
   ],
   "source": [
    "np.delete(particles,1)"
   ]
  },
  {
   "cell_type": "code",
   "execution_count": 80,
   "id": "25813d06",
   "metadata": {},
   "outputs": [
    {
     "data": {
      "text/plain": [
       "2195"
      ]
     },
     "execution_count": 80,
     "metadata": {},
     "output_type": "execute_result"
    }
   ],
   "source": [
    "len(dm.distance_map)"
   ]
  },
  {
   "cell_type": "code",
   "execution_count": 81,
   "id": "a3d3c614",
   "metadata": {},
   "outputs": [
    {
     "name": "stdout",
     "output_type": "stream",
     "text": [
      "10\n"
     ]
    }
   ],
   "source": [
    "a = 10\n",
    "b = 360\n",
    "print(abs((abs(a-b)+180) %360 - 180))"
   ]
  },
  {
   "cell_type": "code",
   "execution_count": 74,
   "id": "fc344f95",
   "metadata": {},
   "outputs": [
    {
     "data": {
      "text/plain": [
       "90"
      ]
     },
     "execution_count": 74,
     "metadata": {},
     "output_type": "execute_result"
    }
   ],
   "source": [
    "630 % 360 -180\n"
   ]
  },
  {
   "cell_type": "code",
   "execution_count": null,
   "id": "2a08eb04",
   "metadata": {},
   "outputs": [],
   "source": []
  }
 ],
 "metadata": {
  "kernelspec": {
   "display_name": "Python 3 (ipykernel)",
   "language": "python",
   "name": "python3"
  },
  "language_info": {
   "codemirror_mode": {
    "name": "ipython",
    "version": 3
   },
   "file_extension": ".py",
   "mimetype": "text/x-python",
   "name": "python",
   "nbconvert_exporter": "python",
   "pygments_lexer": "ipython3",
   "version": "3.8.13"
  }
 },
 "nbformat": 4,
 "nbformat_minor": 5
}
